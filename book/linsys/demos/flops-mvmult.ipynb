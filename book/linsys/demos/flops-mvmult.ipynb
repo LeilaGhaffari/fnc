{
 "cells": [
  {
   "cell_type": "markdown",
   "metadata": {},
   "source": [
    "# Timing and flop counts"
   ]
  },
  {
   "cell_type": "code",
   "execution_count": 2,
   "metadata": {},
   "outputs": [],
   "source": [
    "using FundamentalsNumericalComputation"
   ]
  },
  {
   "cell_type": "code",
   "execution_count": 3,
   "metadata": {},
   "outputs": [],
   "source": [
    "n = 6\n",
    "A = randn(n,n)\n",
    "x = ones(n)\n",
    "y = zeros(n)\n",
    "for i = 1:n\n",
    "    for j = 1:n\n",
    "        y[i] = y[i] + A[i,j]*x[j]   # 2 flops\n",
    "    end\n",
    "end"
   ]
  },
  {
   "cell_type": "markdown",
   "metadata": {},
   "source": [
    "Each of the loops implies a summation of flops. The total flop count for this algorithm is\n",
    "\\[ \\sum_{i=1}^n \\sum_{j=1}^n 2 = \\sum_{i=1}^n 2n = 2n^2. \\]\n",
    "Since the matrix $A$ has $n^2$ elements, all of which have to be involved in the product, it seems unlikely that we could get a flop count that is smaller than $O(n^2)$.\n",
    "\n",
    "\n",
    "Let's run an experiment with the built-in matrix-vector multiplication. We assume that flops dominate the computation time and thus measure elapsed time."
   ]
  },
  {
   "cell_type": "code",
   "execution_count": 4,
   "metadata": {},
   "outputs": [],
   "source": [
    "n = 400:400:4000\n",
    "t = zeros(size(n))\n",
    "for (i,n) in enumerate(n) \n",
    "    A = randn(n,n)  \n",
    "    x = randn(n)\n",
    "    t[i] = @elapsed for j = 1:10; A*x; end\n",
    "end"
   ]
  },
  {
   "cell_type": "markdown",
   "metadata": {},
   "source": [
    "The reason for doing multiple repetitions at each value of $n$ is to avoid having times so short that the resolution of the timer is a factor."
   ]
  },
  {
   "cell_type": "code",
   "execution_count": 5,
   "metadata": {
    "tags": []
   },
   "outputs": [
    {
     "output_type": "stream",
     "name": "stdout",
     "text": "┌\u001b[0m────────\u001b[0m┬\u001b[0m─────────────\u001b[0m┐\u001b[0m\n│\u001b[0m\u001b[1m   size \u001b[0m│\u001b[0m\u001b[1m  time (sec) \u001b[0m│\u001b[0m\n├\u001b[0m────────\u001b[0m┼\u001b[0m─────────────\u001b[0m┤\u001b[0m\n│\u001b[0m  400.0 \u001b[0m│\u001b[0m 0.004200095 \u001b[0m│\u001b[0m\n│\u001b[0m  800.0 \u001b[0m│\u001b[0m 0.000845741 \u001b[0m│\u001b[0m\n│\u001b[0m 1200.0 \u001b[0m│\u001b[0m 0.005423857 \u001b[0m│\u001b[0m\n│\u001b[0m 1600.0 \u001b[0m│\u001b[0m  0.01146149 \u001b[0m│\u001b[0m\n│\u001b[0m 2000.0 \u001b[0m│\u001b[0m 0.020562409 \u001b[0m│\u001b[0m\n│\u001b[0m 2400.0 \u001b[0m│\u001b[0m 0.031335565 \u001b[0m│\u001b[0m\n│\u001b[0m 2800.0 \u001b[0m│\u001b[0m 0.040648929 \u001b[0m│\u001b[0m\n│\u001b[0m 3200.0 \u001b[0m│\u001b[0m 0.047383588 \u001b[0m│\u001b[0m\n│\u001b[0m 3600.0 \u001b[0m│\u001b[0m 0.065086152 \u001b[0m│\u001b[0m\n│\u001b[0m 4000.0 \u001b[0m│\u001b[0m   0.0762724 \u001b[0m│\u001b[0m\n└\u001b[0m────────\u001b[0m┴\u001b[0m─────────────\u001b[0m┘\u001b[0m\n"
    }
   ],
   "source": [
    "pretty_table([n t],[\"size\" \"time (sec)\"])"
   ]
  }
 ],
 "metadata": {
  "kernelspec": {
   "display_name": "Julia faststart",
   "language": "julia",
   "name": "julia-fast"
  },
  "language_info": {
   "file_extension": ".jl",
   "mimetype": "application/julia",
   "name": "julia",
   "version": "3.7.3-final"
  }
 },
 "nbformat": 4,
 "nbformat_minor": 4
}