{
 "cells": [
  {
   "cell_type": "markdown",
   "metadata": {},
   "source": [
    "# Convergence of finite differences\n",
    "\n",
    "Let's observe the convergence of the forward-difference formula applied to the function $\\sin(e^{x+1})$ at $x=0$."
   ]
  },
  {
   "cell_type": "code",
   "execution_count": 3,
   "metadata": {},
   "outputs": [],
   "source": [
    "using FundamentalsNumericalComputation"
   ]
  },
  {
   "cell_type": "code",
   "execution_count": 4,
   "metadata": {},
   "outputs": [
    {
     "data": {
      "text/plain": [
       "3-element Array{Float64,1}:\n",
       " -2.737868275809363\n",
       " -2.6127952856136947\n",
       " -2.5464969752366606"
      ]
     },
     "execution_count": 4,
     "metadata": {},
     "output_type": "execute_result"
    }
   ],
   "source": [
    "f = x -> sin( exp(x+1) );\n",
    "FD1 = [ (f(h)-f(0))/h for h in [0.1,0.05,0.025] ]  "
   ]
  },
  {
   "cell_type": "markdown",
   "metadata": {},
   "source": [
    "It's not clear that the sequence is converging. As predicted, however, the errors are cut approximately by a factor of 2 when $h$ is divided by 2."
   ]
  },
  {
   "cell_type": "code",
   "execution_count": 5,
   "metadata": {},
   "outputs": [
    {
     "name": "stdout",
     "output_type": "stream",
     "text": [
      "┌\u001b[0m───────\u001b[0m┬\u001b[0m─────────────────────\u001b[0m┐\u001b[0m\n",
      "│\u001b[0m\u001b[1m     h \u001b[0m│\u001b[0m\u001b[1m        error in FD1 \u001b[0m│\u001b[0m\n",
      "├\u001b[0m───────\u001b[0m┼\u001b[0m─────────────────────\u001b[0m┤\u001b[0m\n",
      "│\u001b[0m   0.1 \u001b[0m│\u001b[0m 0.25951854285412823 \u001b[0m│\u001b[0m\n",
      "│\u001b[0m  0.05 \u001b[0m│\u001b[0m  0.1344455526584598 \u001b[0m│\u001b[0m\n",
      "│\u001b[0m 0.025 \u001b[0m│\u001b[0m 0.06814724228142577 \u001b[0m│\u001b[0m\n",
      "└\u001b[0m───────\u001b[0m┴\u001b[0m─────────────────────\u001b[0m┘\u001b[0m\n"
     ]
    }
   ],
   "source": [
    "exact_value = cos(exp(1))*exp(1)\n",
    "err = @. exact_value - FD1\n",
    "pretty_table( [ [0.1,0.05,0.025] err],[\"h\",\"error in FD1\"])"
   ]
  },
  {
   "cell_type": "markdown",
   "metadata": {},
   "source": [
    "Asymptotically as $h\\to0$, the error is proportional to $h$."
   ]
  }
 ],
 "metadata": {
  "kernelspec": {
   "display_name": "Julia faststart",
   "language": "julia",
   "name": "julia-fast"
  },
  "language_info": {
   "file_extension": ".jl",
   "mimetype": "application/julia",
   "name": "julia",
   "version": "1.4.1"
  }
 },
 "nbformat": 4,
 "nbformat_minor": 4
}
