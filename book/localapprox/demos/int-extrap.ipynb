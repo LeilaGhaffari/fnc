{
 "cells": [
  {
   "cell_type": "markdown",
   "metadata": {},
   "source": [
    "# Extrapolation for numerical integration\n",
    "\n",
    "We estimate $\\displaystyle\\int_0^2 x^2 e^{-2x}\\, dx$ using extrapolation."
   ]
  },
  {
   "cell_type": "code",
   "execution_count": 1,
   "metadata": {},
   "outputs": [],
   "source": [
    "using FundamentalsNumericalComputation"
   ]
  },
  {
   "cell_type": "code",
   "execution_count": 2,
   "metadata": {},
   "outputs": [
    {
     "data": {
      "text/plain": [
       "(0.1904741736116139, 1.4432899320127035e-15)"
      ]
     },
     "execution_count": 2,
     "metadata": {},
     "output_type": "execute_result"
    }
   ],
   "source": [
    "f = x -> x^2*exp(-2*x);\n",
    "a = 0;  b = 2; \n",
    "Q,errest = quadgk(f,a,b,atol=1e-14,rtol=1e-14)"
   ]
  },
  {
   "cell_type": "markdown",
   "metadata": {},
   "source": [
    "We start with the trapezoid formula on $n=N$ nodes."
   ]
  },
  {
   "cell_type": "code",
   "execution_count": 3,
   "metadata": {},
   "outputs": [],
   "source": [
    "N = 20;       # the coarsest formula\n",
    "n = N;  h = (b-a)/n;\n",
    "t = h*(0:n);   y = f.(t);"
   ]
  },
  {
   "cell_type": "markdown",
   "metadata": {},
   "source": [
    "We can now apply weights to get the estimate $T_f(N)$."
   ]
  },
  {
   "cell_type": "code",
   "execution_count": 4,
   "metadata": {},
   "outputs": [
    {
     "data": {
      "text/plain": [
       "1-element Array{Float64,1}:\n",
       " 6.272367234605447e-5"
      ]
     },
     "execution_count": 4,
     "metadata": {},
     "output_type": "execute_result"
    }
   ],
   "source": [
    "T = [ h*(sum(y[2:n]) + y[1]/2 + y[n+1]/2) ]\n",
    "err_2nd = Q .- T"
   ]
  },
  {
   "cell_type": "markdown",
   "metadata": {},
   "source": [
    "Now we double to $n=2N$, but we only need to evaluate $f$ at every other interior node."
   ]
  },
  {
   "cell_type": "code",
   "execution_count": 5,
   "metadata": {},
   "outputs": [
    {
     "data": {
      "text/plain": [
       "2-element Array{Float64,1}:\n",
       " 6.272367234605447e-5\n",
       " 1.5367752102146692e-5"
      ]
     },
     "execution_count": 5,
     "metadata": {},
     "output_type": "execute_result"
    }
   ],
   "source": [
    "n = 2n;  h = h/2;  t = h*(0:n);\n",
    "T = [ T; T[1]/2 + h*sum( f.(t[2:2:n]) ) ]\n",
    "err_2nd = Q .- T"
   ]
  },
  {
   "cell_type": "markdown",
   "metadata": {},
   "source": [
    "As expected for a second-order estimate, the error went down by a factor of about 4. We can repeat the same code to double $n$ again."
   ]
  },
  {
   "cell_type": "code",
   "execution_count": 6,
   "metadata": {},
   "outputs": [
    {
     "data": {
      "text/plain": [
       "3-element Array{Float64,1}:\n",
       " 6.272367234605447e-5\n",
       " 1.5367752102146692e-5\n",
       " 3.822306969603062e-6"
      ]
     },
     "execution_count": 6,
     "metadata": {},
     "output_type": "execute_result"
    }
   ],
   "source": [
    "n = 2n;  h = h/2;  t = h*(0:n);\n",
    "T = [ T; T[2]/2 + h*sum( f.(t[2:2:n]) ) ]\n",
    "err_2nd = Q .- T"
   ]
  },
  {
   "cell_type": "markdown",
   "metadata": {},
   "source": [
    "Let us now do the first level of extrapolation to get results from Simpson's formula. We combine the elements `T[i]` and `T[i+1]` the same way for $i=1$ and $i=2$."
   ]
  },
  {
   "cell_type": "code",
   "execution_count": 7,
   "metadata": {},
   "outputs": [
    {
     "data": {
      "text/plain": [
       "2-element Array{Float64,1}:\n",
       " -4.175546458318191e-7\n",
       " -2.617474123556285e-8"
      ]
     },
     "execution_count": 7,
     "metadata": {},
     "output_type": "execute_result"
    }
   ],
   "source": [
    "S = [ (4*T[i+1]-T[i])/3 for i in 1:2 ]\n",
    "err_4th = Q .- S"
   ]
  },
  {
   "cell_type": "markdown",
   "metadata": {},
   "source": [
    "With the two Simpson values $S_f(N)$ and $S_f(2N)$ in hand, we can do one more level of extrapolation to get a 6th-order accurate result."
   ]
  },
  {
   "cell_type": "code",
   "execution_count": 8,
   "metadata": {},
   "outputs": [
    {
     "data": {
      "text/plain": [
       "-8.274761431614763e-11"
      ]
     },
     "execution_count": 8,
     "metadata": {},
     "output_type": "execute_result"
    }
   ],
   "source": [
    "R = (16*S[2] - S[1]) / 15\n",
    "err_6th = Q .- R"
   ]
  },
  {
   "cell_type": "markdown",
   "metadata": {},
   "source": [
    "If we consider the computational time to be dominated by evaluations of $f$, then we have obtained a result with twice as many accurate digits as the best trapezoid result, at virtually no extra cost."
   ]
  },
  {
   "cell_type": "markdown",
   "metadata": {},
   "source": [
    "Here are tables of the values and errors. Each time we add a column we have to skip one more estimated value, so we get a triangular structure."
   ]
  },
  {
   "cell_type": "code",
   "execution_count": 10,
   "metadata": {},
   "outputs": [
    {
     "name": "stdout",
     "output_type": "stream",
     "text": [
      "┌\u001b[0m────\u001b[0m┬\u001b[0m─────────────────────\u001b[0m┬\u001b[0m─────────────────────\u001b[0m┬\u001b[0m────────────────────\u001b[0m┐\u001b[0m\n",
      "│\u001b[0m\u001b[1m  n \u001b[0m│\u001b[0m\u001b[1m           Trapezoid \u001b[0m│\u001b[0m\u001b[1m             Simpson \u001b[0m│\u001b[0m\u001b[1m          6th order \u001b[0m│\u001b[0m\n",
      "├\u001b[0m────\u001b[0m┼\u001b[0m─────────────────────\u001b[0m┼\u001b[0m─────────────────────\u001b[0m┼\u001b[0m────────────────────\u001b[0m┤\u001b[0m\n",
      "│\u001b[0m 20 \u001b[0m│\u001b[0m 0.19041144993926784 \u001b[0m│\u001b[0m             missing \u001b[0m│\u001b[0m            missing \u001b[0m│\u001b[0m\n",
      "│\u001b[0m 40 \u001b[0m│\u001b[0m 0.19045880585951175 \u001b[0m│\u001b[0m 0.19047459116625973 \u001b[0m│\u001b[0m            missing \u001b[0m│\u001b[0m\n",
      "│\u001b[0m 80 \u001b[0m│\u001b[0m  0.1904703513046443 \u001b[0m│\u001b[0m 0.19047419978635513 \u001b[0m│\u001b[0m 0.1904741736943615 \u001b[0m│\u001b[0m\n",
      "└\u001b[0m────\u001b[0m┴\u001b[0m─────────────────────\u001b[0m┴\u001b[0m─────────────────────\u001b[0m┴\u001b[0m────────────────────\u001b[0m┘\u001b[0m\n"
     ]
    }
   ],
   "source": [
    "table = (n=[N,2N,4N],trap=T,simp=[missing,S...],sixth=[missing,missing,R])\n",
    "pretty_table(table,[\"n\",\"Trapezoid\",\"Simpson\",\"6th order\"])"
   ]
  },
  {
   "cell_type": "code",
   "execution_count": 11,
   "metadata": {},
   "outputs": [
    {
     "name": "stdout",
     "output_type": "stream",
     "text": [
      "┌\u001b[0m────\u001b[0m┬\u001b[0m───────────────────────\u001b[0m┬\u001b[0m───────────────────────\u001b[0m┬\u001b[0m────────────────────────\u001b[0m┐\u001b[0m\n",
      "│\u001b[0m\u001b[1m  n \u001b[0m│\u001b[0m\u001b[1m             2nd order \u001b[0m│\u001b[0m\u001b[1m             4th order \u001b[0m│\u001b[0m\u001b[1m              6th order \u001b[0m│\u001b[0m\n",
      "├\u001b[0m────\u001b[0m┼\u001b[0m───────────────────────\u001b[0m┼\u001b[0m───────────────────────\u001b[0m┼\u001b[0m────────────────────────\u001b[0m┤\u001b[0m\n",
      "│\u001b[0m 20 \u001b[0m│\u001b[0m  6.272367234605447e-5 \u001b[0m│\u001b[0m               missing \u001b[0m│\u001b[0m                missing \u001b[0m│\u001b[0m\n",
      "│\u001b[0m 40 \u001b[0m│\u001b[0m 1.5367752102146692e-5 \u001b[0m│\u001b[0m -4.175546458318191e-7 \u001b[0m│\u001b[0m                missing \u001b[0m│\u001b[0m\n",
      "│\u001b[0m 80 \u001b[0m│\u001b[0m  3.822306969603062e-6 \u001b[0m│\u001b[0m -2.617474123556285e-8 \u001b[0m│\u001b[0m -8.274761431614763e-11 \u001b[0m│\u001b[0m\n",
      "└\u001b[0m────\u001b[0m┴\u001b[0m───────────────────────\u001b[0m┴\u001b[0m───────────────────────\u001b[0m┴\u001b[0m────────────────────────\u001b[0m┘\u001b[0m\n"
     ]
    }
   ],
   "source": [
    "table = (n=[N,2N,4N],trap=Q.-T,simp=[missing,Q.-S...],sixth=[missing,missing,Q-R])\n",
    "pretty_table(table,[\"n\",\"2nd order\",\"4th order\",\"6th order\"])"
   ]
  }
 ],
 "metadata": {
  "kernelspec": {
   "display_name": "Julia faststart",
   "language": "julia",
   "name": "julia-fast"
  },
  "language_info": {
   "file_extension": ".jl",
   "mimetype": "application/julia",
   "name": "julia",
   "version": "1.4.1"
  }
 },
 "nbformat": 4,
 "nbformat_minor": 4
}
