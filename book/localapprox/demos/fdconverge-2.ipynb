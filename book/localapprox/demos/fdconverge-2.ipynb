{
 "cells": [
  {
   "cell_type": "markdown",
   "metadata": {},
   "source": [
    "# Comparison of 1st and 2nd order"
   ]
  },
  {
   "cell_type": "code",
   "execution_count": null,
   "metadata": {},
   "outputs": [],
   "source": [
    "using FundamentalsNumericalComputation"
   ]
  },
  {
   "cell_type": "code",
   "execution_count": null,
   "metadata": {},
   "outputs": [],
   "source": [
    "f = x -> sin( exp(x+1) );\n",
    "exact_value = cos(exp(1))*exp(1);"
   ]
  },
  {
   "cell_type": "markdown",
   "metadata": {},
   "source": [
    "We'll run both formulas in parallel for a sequence of $h$ values."
   ]
  },
  {
   "cell_type": "code",
   "execution_count": null,
   "metadata": {},
   "outputs": [],
   "source": [
    "h = @. 4. ^(-1:-1:-8)\n",
    "FD1 = [];  FD2 = [];\n",
    "for h in h\n",
    "    push!(FD1, (f(h)-f(0)) / h )\n",
    "    push!(FD2, (f(h)-f(-h)) / 2h ) \n",
    "end\n",
    "\n",
    "pretty_table([h FD1 FD2],[\"h\",\"FD1\",\"FD2\"],backend=:html)"
   ]
  },
  {
   "cell_type": "markdown",
   "metadata": {},
   "source": [
    "All that's easy to see from this table is that FD2 appears to converge to the same result as FD1, but more rapidly. In each case $h$ is decreased by a factor of 4, so that the error is reduced by a factor of 4 in the first-order method and 16 in the second-order method."
   ]
  },
  {
   "cell_type": "code",
   "execution_count": null,
   "metadata": {},
   "outputs": [],
   "source": [
    "error_FD1 = @. exact_value - FD1 \n",
    "error_FD2 = @. exact_value - FD2\n",
    "\n",
    "table = (n=Int.(log2.(h)),fd1=error_FD1,fd2=error_FD2)\n",
    "pretty_table(table,[\"log_2(h)\",\"error in FD1\",\"error in FD2\"],backend=:html)"
   ]
  },
  {
   "cell_type": "markdown",
   "metadata": {},
   "source": [
    "A graphical comparison can be clearer. On a log-log scale, the error should (roughly) be a straight line whose slope is the order of accuracy. However, it's conventional in convergence plots, to show $h$ _decreasing_ from left to right, which negates the slopes."
   ]
  },
  {
   "cell_type": "code",
   "execution_count": null,
   "metadata": {},
   "outputs": [],
   "source": [
    "plot(h,abs.([error_FD1 error_FD2]),m=:o,label=[\"error FD1\" \"error FD2\"],\n",
    "    xflip=true, xaxis=(:log10,\"\\$h\\$\"), yaxis=(:log10,\"error in \\$f'(0)\\$\"),\n",
    "    title=\"Convergence of finite differences\", leg=:bottomleft)\n",
    "\n",
    "plot!(h,[h h.^2],l=:dash,label=[\"order1\" \"order2\"])      # perfect 1st and 2nd order"
   ]
  }
 ],
 "metadata": {
  "kernelspec": {
   "display_name": "Julia 1.4.1",
   "language": "julia",
   "name": "julia-1.4"
  },
  "language_info": {
   "file_extension": ".jl",
   "mimetype": "application/julia",
   "name": "julia",
   "version": "1.4.1"
  }
 },
 "nbformat": 4,
 "nbformat_minor": 4
}
