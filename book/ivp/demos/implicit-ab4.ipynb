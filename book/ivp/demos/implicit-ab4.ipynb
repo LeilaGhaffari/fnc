{
 "cells": [
  {
   "cell_type": "markdown",
   "metadata": {},
   "source": [
    "# Convergence of AB4\n",
    "\n",
    "We consider the IVP $u'=\\sin[(u+t)^2]$ over $0\\le t \\le 4$, with $u(0)=-1$."
   ]
  },
  {
   "cell_type": "code",
   "execution_count": null,
   "metadata": {},
   "outputs": [],
   "source": [
    "using FundamentalsNumericalComputation"
   ]
  },
  {
   "cell_type": "code",
   "execution_count": null,
   "metadata": {},
   "outputs": [],
   "source": [
    "ivp = ODEProblem((u,p,t)->sin((t+u)^2),-1.,(0.0,4.0))"
   ]
  },
  {
   "cell_type": "markdown",
   "metadata": {},
   "source": [
    "We use a solver from `DifferentialEquations` to construct an accurate approximation to the exact solution."
   ]
  },
  {
   "cell_type": "code",
   "execution_count": null,
   "metadata": {},
   "outputs": [],
   "source": [
    "u_exact = solve(ivp,reltol=1e-14,abstol=1e-14);"
   ]
  },
  {
   "cell_type": "markdown",
   "metadata": {},
   "source": [
    "Now we perform a convergence study of the AB4 code."
   ]
  },
  {
   "cell_type": "code",
   "execution_count": null,
   "metadata": {},
   "outputs": [],
   "source": [
    "n = @. 10*2^(0:5)\n",
    "err = zeros(size(n))\n",
    "for (j,n) = enumerate(n)\n",
    "    t,u = FNC.ab4(ivp,n)\n",
    "    err[j] = norm(u_exact.(t)-u,Inf)\n",
    "end\n",
    "\n",
    "pretty_table([n err],[\"n\",\"inf-norm error\"])"
   ]
  },
  {
   "cell_type": "markdown",
   "metadata": {},
   "source": [
    "The method should converge as $O(h^4)$, so a log-log scale is appropriate for the errors."
   ]
  },
  {
   "cell_type": "code",
   "execution_count": null,
   "metadata": {},
   "outputs": [],
   "source": [
    "plot(n,err,m=:o,label=\"AB4\",\n",
    "    xaxis=(:log10,\"n\"),yaxis=(:log10,\"inf-norm error\"),\n",
    "    title=\"Convergence of AB4\",leg=:bottomleft)\n",
    "\n",
    "plot!(n,0.1*(n/n[1]).^(-4),l=:dash,label=\"4th order\")"
   ]
  },
  {
   "cell_type": "code",
   "execution_count": null,
   "metadata": {},
   "outputs": [],
   "source": []
  }
 ],
 "metadata": {
  "kernelspec": {
   "display_name": "Julia faststart",
   "language": "julia",
   "name": "julia-fast"
  },
  "language_info": {
   "file_extension": ".jl",
   "mimetype": "application/julia",
   "name": "julia",
   "version": "1.4.1"
  }
 },
 "nbformat": 4,
 "nbformat_minor": 4
}
